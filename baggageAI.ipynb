{
 "cells": [
  {
   "cell_type": "markdown",
   "source": [
    "BaggageAI Computer Vision\r\n",
    "\r\n",
    "Case Study:- Image Processing"
   ],
   "metadata": {}
  },
  {
   "cell_type": "markdown",
   "source": [
    "IMPRTING REQUIRED LIBRARIES"
   ],
   "metadata": {}
  },
  {
   "cell_type": "code",
   "execution_count": 70,
   "source": [
    "import cv2\r\n",
    "import imutils\r\n",
    "from PIL import Image\r\n",
    "import glob\r\n",
    "import numpy as np"
   ],
   "outputs": [],
   "metadata": {}
  },
  {
   "cell_type": "markdown",
   "source": [
    "ROTATE BOUND FUNCTION for BETTER CROPPING of IMAGES"
   ],
   "metadata": {}
  },
  {
   "cell_type": "code",
   "execution_count": 71,
   "source": [
    "def rotate_bound(image, angle):\r\n",
    "    # grab the dimensions of the image and then determine the\r\n",
    "    # center\r\n",
    "    (h, w) = image.shape[:2]\r\n",
    "    (cX, cY) = (w // 2, h // 2)\r\n",
    "    # grab the rotation matrix (applying the negative of the\r\n",
    "    # angle to rotate clockwise), then grab the sine and cosine\r\n",
    "    # (i.e., the rotation components of the matrix)\r\n",
    "    M = cv2.getRotationMatrix2D((cX, cY), -angle, 0.57)\r\n",
    "    cos = np.abs(M[0, 0])\r\n",
    "    sin = np.abs(M[0, 1])\r\n",
    "    # compute the new bounding dimensions of the image\r\n",
    "    nW = int((h * sin) + (w * cos))\r\n",
    "    nH = int((h * cos) + (w * sin))\r\n",
    "    # adjust the rotation matrix to take into account translation\r\n",
    "    M[0, 2] += (nW / 2) - cX\r\n",
    "    M[1, 2] += (nH / 2) - cY\r\n",
    "    # perform the actual rotation and return the image\r\n",
    "    return cv2.warpAffine(image, M, (nW, nH))"
   ],
   "outputs": [],
   "metadata": {}
  },
  {
   "cell_type": "markdown",
   "source": [
    "LOAD THREAT IMAGES"
   ],
   "metadata": {}
  },
  {
   "cell_type": "code",
   "execution_count": 72,
   "source": [
    "image_list = [Image.open(item) for i in [glob.glob('D:\\\\Documents\\\\baggageAI\\\\threat_images\\\\*.%s' % ext) \r\n",
    "            for ext in [\"jpg\",\"gif\",\"png\",\"tga\"]] for item in i]"
   ],
   "outputs": [],
   "metadata": {}
  },
  {
   "cell_type": "markdown",
   "source": [
    "MASKING"
   ],
   "metadata": {}
  },
  {
   "cell_type": "code",
   "execution_count": 74,
   "source": [
    "masked=[]\r\n",
    "image_no = 1\r\n",
    "\r\n",
    "#transparency percentage\r\n",
    "TRANSPARENCY=60\r\n",
    "\r\n",
    "\r\n",
    "for img in image_list:\r\n",
    "  mask_2=img.convert(\"L\")\r\n",
    "  th=240\r\n",
    "  mask_2 = mask_2.point(lambda i: i < th and 255) \r\n",
    "  paste_mask_2 = mask_2.split()[0].point(lambda i: i * TRANSPARENCY / 100.)\r\n",
    "  masked.append(paste_mask_2)\r\n",
    "\r\n",
    "  #Saving mask to a directory for use\r\n",
    "  name = \"D:\\\\Documents\\\\baggageAI\\\\masks\\\\\" + 'mask' + str(image_no) + '.jpg'\r\n",
    "  paste_mask_2.save(name, 'JPEG')\r\n",
    "  image_no += 1"
   ],
   "outputs": [],
   "metadata": {}
  },
  {
   "cell_type": "markdown",
   "source": [
    "RESIZING, ROTATING THREAT IMAGE and MASKS"
   ],
   "metadata": {}
  },
  {
   "cell_type": "code",
   "execution_count": 78,
   "source": [
    "\r\n",
    "images_list=[]\r\n",
    "for filename in glob.glob(\"D:\\\\Documents\\\\baggageAI\\\\background_images\\\\*.jpg\"):\r\n",
    "    im=Image.open(filename)\r\n",
    "    images_list.append(im.size[1])"
   ],
   "outputs": [],
   "metadata": {}
  },
  {
   "cell_type": "code",
   "execution_count": 77,
   "source": [
    "image_no=1\r\n",
    "\r\n",
    "for (filename,i) in zip(glob.glob(\"D:\\\\Documents\\\\baggageAI\\\\threat_images\\\\*.jpg\"),images_list):\r\n",
    "    images=cv2.imread(filename)  \r\n",
    "    image = imutils.resize(images,height=i) \r\n",
    "    rotate = rotate_bound(image, 45) #rotate by 45 degrees\r\n",
    "    name = (\"D:\\\\Documents\\\\baggageAI\\\\resized\\\\\")+'resized' + str(image_no) + '.png'\r\n",
    "    cv2.imwrite(name, rotate)\r\n",
    "    image_no += 1"
   ],
   "outputs": [],
   "metadata": {}
  },
  {
   "cell_type": "code",
   "execution_count": 82,
   "source": [
    "image_no=1\r\n",
    "\r\n",
    "for (filename,i) in zip(masked,images_list):\r\n",
    "    images = cv2.cvtColor(np.array(filename),cv2.COLOR_GRAY2BGR) #reading after converting to numpy array and saved in PIL format \r\n",
    "    image = imutils.resize(images,height=i)\r\n",
    "    rotate = rotate_bound(image, 45)\r\n",
    "    name = (\"D:\\\\Documents\\\\baggageAI\\\\resized_masks\\\\\")+'resized_mask' + str(image_no) + '.png'\r\n",
    "    cv2.imwrite(name, rotate)\r\n",
    "    image_no += 1\r\n",
    "\r\n",
    "l = [1,2,3,4,5]"
   ],
   "outputs": [],
   "metadata": {}
  },
  {
   "cell_type": "markdown",
   "source": [
    "PASTING THREAT IMAGE on BACKGROUND IMAGE"
   ],
   "metadata": {}
  },
  {
   "cell_type": "code",
   "execution_count": 83,
   "source": [
    "image_no=1\r\n",
    "\r\n",
    "for (filename,i,j) in zip(glob.glob(\"D:\\\\Documents\\\\baggageAI\\\\background_images\\\\*.jpg\"),l,l):\r\n",
    "  im1=Image.open(filename) \r\n",
    "  back_im = im1.copy()\r\n",
    "  im2 = Image.open(\"D:\\\\Documents\\\\baggageAI\\\\resized\\\\\"+'resized'+str(i)+'.png') #resized and rotated threat image\r\n",
    "  mask_im = Image.open(\"D:\\\\Documents\\\\baggageAI\\\\resized_masks\\\\\"+'resized_mask'+str(j)+'.png') #resized and rotated mask\r\n",
    "  mask_imm=mask_im.convert('L')#covert to single channel image\r\n",
    "  back_im.paste(im2, (48,40), mask_imm) \r\n",
    "  name = \"D:\\\\Documents\\\\baggageAI\\\\final_out\\\\\"+'output' + str(image_no) + '.png'\r\n",
    "  back_im.save(name, quality=95)\r\n",
    "  image_no += 1"
   ],
   "outputs": [],
   "metadata": {}
  }
 ],
 "metadata": {
  "orig_nbformat": 4,
  "language_info": {
   "name": "python",
   "version": "3.8.10",
   "mimetype": "text/x-python",
   "codemirror_mode": {
    "name": "ipython",
    "version": 3
   },
   "pygments_lexer": "ipython3",
   "nbconvert_exporter": "python",
   "file_extension": ".py"
  },
  "kernelspec": {
   "name": "python3",
   "display_name": "Python 3.8.10 64-bit ('base': conda)"
  },
  "interpreter": {
   "hash": "b3ba2566441a7c06988d0923437866b63cedc61552a5af99d1f4fb67d367b25f"
  }
 },
 "nbformat": 4,
 "nbformat_minor": 2
}